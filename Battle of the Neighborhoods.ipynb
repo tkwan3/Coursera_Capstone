{
    "cells": [
        {
            "cell_type": "markdown",
            "metadata": {
                "collapsed": true
            },
            "source": "# Clustering the Neigborhoods of London and Paris"
        },
        {
            "cell_type": "markdown",
            "metadata": {},
            "source": "Tiffany Kwan"
        },
        {
            "cell_type": "markdown",
            "metadata": {},
            "source": "## 1. Introduction"
        },
        {
            "cell_type": "markdown",
            "metadata": {},
            "source": "London and Paris are two of the most popular tourist destinations.  This project will group the two neighborhoods respectively to draw insights into the two cities."
        },
        {
            "cell_type": "markdown",
            "metadata": {},
            "source": "## 2. Business Problem"
        },
        {
            "cell_type": "markdown",
            "metadata": {},
            "source": "We want to help tourists choose which neighborhood to visit based on likes and experiences.  Not only will this help tourists, but it will also help individuals who are considering relocating to one of these neigborhoods.  Further, this will help stakeholders makw decisions based on what amenities wach city has to offer."
        },
        {
            "cell_type": "markdown",
            "metadata": {},
            "source": "## 3. Data "
        },
        {
            "cell_type": "markdown",
            "metadata": {},
            "source": "We will use postal codes as a starting point for geographical location data in London and Paris.  The codes will help us find popular venues, neighborhoods and boroughs. "
        },
        {
            "cell_type": "markdown",
            "metadata": {},
            "source": "### London"
        },
        {
            "cell_type": "markdown",
            "metadata": {},
            "source": "We will use data from https://en.wikipedia.org/wiki/List_of_areas_of_London"
        },
        {
            "cell_type": "markdown",
            "metadata": {},
            "source": "For more information about geographical locations, we will utilize ArcGIS API which will enable us to connect people, locations and data using interactive maps. "
        },
        {
            "cell_type": "markdown",
            "metadata": {},
            "source": "The following will be the variables used"
        },
        {
            "cell_type": "markdown",
            "metadata": {},
            "source": "1. borough: Name of Neighborhood\n2. town: Name of borough\n3. post_code: postal codes for London\n4. latitiude: Latitdue for Neighborhood\n5. longitude: Longitde for Neighborhood"
        },
        {
            "cell_type": "markdown",
            "metadata": {},
            "source": "### Paris"
        },
        {
            "cell_type": "markdown",
            "metadata": {},
            "source": "We will use data from JSON data https://www.data.gouv.fr/fr/datasets/r/e88c6fda-1d09-42a0-a069-606d3259114e"
        },
        {
            "cell_type": "markdown",
            "metadata": {},
            "source": "The following variables will be used"
        },
        {
            "cell_type": "markdown",
            "metadata": {},
            "source": "1. postal_code: postal codes for France\n2. nom_comm: Name of Neighborhood in France\n3. nom_dept: Name of the boroughs\n4. feo_point_2d: Tuple containing the latitude and longitude"
        },
        {
            "cell_type": "markdown",
            "metadata": {},
            "source": "#### Foursquare API Data"
        },
        {
            "cell_type": "markdown",
            "metadata": {},
            "source": "We will use Foursquare data to find data about specific venues in different neighnorhoods.  First, we will find the list of neighborhoods, then connect to Foursquare API Data to find venues inside each neighborhood within a 500 meter radius.  "
        },
        {
            "cell_type": "markdown",
            "metadata": {},
            "source": "The following variables will be used"
        },
        {
            "cell_type": "markdown",
            "metadata": {},
            "source": "1. Neighbourhood : Name of the Neighbourhood\n2. Neighbourhood Latitude : Latitude of the Neighbourhood\n3. Neighbourhood Longitude : Longitude of the Neighbourhood\n4. Venue : Name of the Venue\n5. Venue Latitude : Latitude of Venue\n6. Venue Longitude : Longitude of Venue\n7. Venue Category : Category of Venue"
        },
        {
            "cell_type": "markdown",
            "metadata": {},
            "source": "All of this collected data will help us build our model "
        },
        {
            "cell_type": "markdown",
            "metadata": {},
            "source": ""
        },
        {
            "cell_type": "code",
            "execution_count": null,
            "metadata": {},
            "outputs": [],
            "source": ""
        }
    ],
    "metadata": {
        "kernelspec": {
            "display_name": "Python 3.7",
            "language": "python",
            "name": "python3"
        },
        "language_info": {
            "codemirror_mode": {
                "name": "ipython",
                "version": 3
            },
            "file_extension": ".py",
            "mimetype": "text/x-python",
            "name": "python",
            "nbconvert_exporter": "python",
            "pygments_lexer": "ipython3",
            "version": "3.7.9"
        }
    },
    "nbformat": 4,
    "nbformat_minor": 1
}